{
 "cells": [
  {
   "cell_type": "markdown",
   "id": "06ad1455-0626-4b49-b9c9-6288240bf157",
   "metadata": {},
   "source": [
    "# Import"
   ]
  },
  {
   "cell_type": "code",
   "execution_count": 1,
   "id": "eb34a5d2-5dca-4bf1-894f-084f4f3f0899",
   "metadata": {},
   "outputs": [],
   "source": [
    "import math"
   ]
  },
  {
   "cell_type": "markdown",
   "id": "3e33cf1e-6a1b-4002-b7bc-0643775956c2",
   "metadata": {},
   "source": [
    "# Prediction Equation"
   ]
  },
  {
   "cell_type": "code",
   "execution_count": 2,
   "id": "4603da46-c078-4f84-9ce5-2f7f3d7ef312",
   "metadata": {},
   "outputs": [],
   "source": [
    "def predict_salary(age, ip, era, whip, w, sv, war, war_ip, war_w):\n",
    "    intercept = 16.064277\n",
    "    coefficient_age = -0.023938\n",
    "    coefficient_ip = 0.004216\n",
    "    coefficient_era = 0.045483\n",
    "    coefficient_whip = -0.721570\n",
    "    coefficient_w = 0.054429\n",
    "    coefficient_sv = 0.025936\n",
    "    coefficient_war = 0.154367\n",
    "    coefficient_war_ip = -0.0012974\n",
    "    coefficient_war_w = -0.01393\n",
    "\n",
    "    predicted_salary = math.exp(\n",
    "        intercept +\n",
    "        coefficient_age * age +\n",
    "        coefficient_ip * ip +\n",
    "        coefficient_era * era +\n",
    "        coefficient_whip * whip  +\n",
    "        coefficient_w * w +\n",
    "        coefficient_sv * sv +\n",
    "        coefficient_war * war +\n",
    "        coefficient_war_ip * war_ip +\n",
    "        coefficient_war_w * war_w\n",
    "    )\n",
    "\n",
    "    return predicted_salary\n"
   ]
  },
  {
   "cell_type": "markdown",
   "id": "2ffcd8bc-127e-4dec-a9cf-8de89ea73fcc",
   "metadata": {},
   "source": [
    "# Input values from the user"
   ]
  },
  {
   "cell_type": "code",
   "execution_count": 18,
   "id": "25ef2a74-ed86-4546-a0e8-365a293cf17b",
   "metadata": {},
   "outputs": [
    {
     "name": "stdin",
     "output_type": "stream",
     "text": [
      "Enter Age:  32\n",
      "Enter IP: 136.2\n",
      "Enter ERA:  3.95\n",
      "Enter WHIP:  1.259\n",
      "Enter W:  10\n",
      "Enter SV:  0\n",
      "Enter WAR:  1.64\n"
     ]
    }
   ],
   "source": [
    "age = float(input(\"Enter Age: \"))\n",
    "ip = float(input(\"Enter IP:\"))\n",
    "era = float(input(\"Enter ERA: \"))\n",
    "whip = float(input(\"Enter WHIP: \"))\n",
    "w = float(input(\"Enter W: \"))\n",
    "sv = float(input(\"Enter SV: \"))\n",
    "war = float(input(\"Enter WAR: \"))\n",
    "war_ip = war * ip\n",
    "war_w = war * w"
   ]
  },
  {
   "cell_type": "markdown",
   "id": "eb4ff640-9284-4300-8b1a-393a36ab1836",
   "metadata": {},
   "source": [
    "# Result"
   ]
  },
  {
   "cell_type": "code",
   "execution_count": 19,
   "id": "ab6a0488-9ad4-4395-91e9-7684025530be",
   "metadata": {},
   "outputs": [
    {
     "name": "stdout",
     "output_type": "stream",
     "text": [
      "Predicted Salary: $4989686.58\n"
     ]
    }
   ],
   "source": [
    "predicted_salary = predict_salary(age, ip, era, whip, w, sv, war, war_ip, war_w)\n",
    "print(f'Predicted Salary: ${predicted_salary:.2f}')"
   ]
  },
  {
   "cell_type": "markdown",
   "id": "0ab56c2b-3a0a-43eb-933c-f0c4be75b6e7",
   "metadata": {},
   "source": [
    "# Checking Accuracy"
   ]
  },
  {
   "cell_type": "code",
   "execution_count": 17,
   "id": "dde5de3c-8fce-46f8-8d9a-ed5a5bca96b7",
   "metadata": {},
   "outputs": [
    {
     "name": "stdin",
     "output_type": "stream",
     "text": [
      "Enter Real Salary:  18500000\n"
     ]
    }
   ],
   "source": [
    "real_salary = float(input(\"Enter Real Salary: \"))"
   ]
  },
  {
   "cell_type": "markdown",
   "id": "1240cee2-441b-4ab3-9138-ec841300e5f6",
   "metadata": {},
   "source": [
    "## Calculate percent difference"
   ]
  },
  {
   "cell_type": "code",
   "execution_count": 20,
   "id": "98f35bae-b92a-4887-9f10-fef26fbaf75d",
   "metadata": {},
   "outputs": [],
   "source": [
    "percent_difference = (abs(predicted_salary - real_salary) / ((predicted_salary + real_salary)/2) * 100)"
   ]
  },
  {
   "cell_type": "code",
   "execution_count": 21,
   "id": "db778e77-2281-43a8-8fe3-13eb14cb8b5e",
   "metadata": {},
   "outputs": [
    {
     "name": "stdout",
     "output_type": "stream",
     "text": [
      "Predicted Salary: $4989686.58\n",
      "Real Salary: $18500000.00\n",
      "Percent Difference: 115.03%\n"
     ]
    }
   ],
   "source": [
    "print(f'Predicted Salary: ${predicted_salary:.2f}')\n",
    "print(f'Real Salary: ${real_salary:.2f}')\n",
    "print(f'Percent Difference: {percent_difference:.2f}%')"
   ]
  },
  {
   "cell_type": "code",
   "execution_count": null,
   "id": "cb822a89-217e-4449-a9c4-2e260ca848f0",
   "metadata": {},
   "outputs": [],
   "source": []
  }
 ],
 "metadata": {
  "kernelspec": {
   "display_name": "Python 3 (ipykernel)",
   "language": "python",
   "name": "python3"
  },
  "language_info": {
   "codemirror_mode": {
    "name": "ipython",
    "version": 3
   },
   "file_extension": ".py",
   "mimetype": "text/x-python",
   "name": "python",
   "nbconvert_exporter": "python",
   "pygments_lexer": "ipython3",
   "version": "3.12.1"
  }
 },
 "nbformat": 4,
 "nbformat_minor": 5
}
