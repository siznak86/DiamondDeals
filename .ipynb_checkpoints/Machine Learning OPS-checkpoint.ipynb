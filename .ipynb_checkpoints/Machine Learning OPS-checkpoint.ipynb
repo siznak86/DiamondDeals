{
 "cells": [
  {
   "cell_type": "markdown",
   "id": "db478701-ade5-48b5-9676-0261f45c154c",
   "metadata": {},
   "source": [
    "# Import Packages"
   ]
  },
  {
   "cell_type": "code",
   "execution_count": 8,
   "id": "b761751e-ab99-4a48-9c7e-d5fd7e613190",
   "metadata": {},
   "outputs": [],
   "source": [
    "import pandas as pd\n",
    "from sklearn.linear_model import LinearRegression\n",
    "from sklearn.model_selection import train_test_split\n",
    "import matplotlib.pyplot as plt\n",
    "%matplotlib inline\n",
    "from sklearn import metrics\n",
    "from sklearn.metrics import mean_squared_error\n",
    "import numpy as np"
   ]
  },
  {
   "cell_type": "markdown",
   "id": "39272427-4da0-4d2d-8b14-48e5e264f70f",
   "metadata": {},
   "source": [
    "# Import Data"
   ]
  },
  {
   "cell_type": "code",
   "execution_count": 14,
   "id": "b5b63afb-b0fb-4137-b237-ef84a796f8c4",
   "metadata": {},
   "outputs": [],
   "source": [
    "freeagencyOPS = pd.read_csv(\"C:/Users/Hayden's PC/Documents/Data Science/DiamondDeals/FreeAgencyOPS.csv\")"
   ]
  },
  {
   "cell_type": "code",
   "execution_count": 15,
   "id": "3fb825e9-7c28-4589-8386-b465e8f12826",
   "metadata": {},
   "outputs": [
    {
     "data": {
      "text/html": [
       "<div>\n",
       "<style scoped>\n",
       "    .dataframe tbody tr th:only-of-type {\n",
       "        vertical-align: middle;\n",
       "    }\n",
       "\n",
       "    .dataframe tbody tr th {\n",
       "        vertical-align: top;\n",
       "    }\n",
       "\n",
       "    .dataframe thead th {\n",
       "        text-align: right;\n",
       "    }\n",
       "</style>\n",
       "<table border=\"1\" class=\"dataframe\">\n",
       "  <thead>\n",
       "    <tr style=\"text-align: right;\">\n",
       "      <th></th>\n",
       "      <th>PlayerID</th>\n",
       "      <th>PLAYER</th>\n",
       "      <th>POS.</th>\n",
       "      <th>AGE</th>\n",
       "      <th>BATS</th>\n",
       "      <th>THROWS</th>\n",
       "      <th>FROM</th>\n",
       "      <th>TO</th>\n",
       "      <th>YRS</th>\n",
       "      <th>DOLLARS</th>\n",
       "      <th>AVG. SALARY</th>\n",
       "      <th>YEAR</th>\n",
       "      <th>H</th>\n",
       "      <th>RBI</th>\n",
       "      <th>HR</th>\n",
       "      <th>AVG</th>\n",
       "      <th>OPS</th>\n",
       "      <th>WAR</th>\n",
       "      <th>DummyPos</th>\n",
       "      <th>PosNumber</th>\n",
       "    </tr>\n",
       "  </thead>\n",
       "  <tbody>\n",
       "    <tr>\n",
       "      <th>0</th>\n",
       "      <td>72</td>\n",
       "      <td>Bryce Harper</td>\n",
       "      <td>1B</td>\n",
       "      <td>26.3</td>\n",
       "      <td>L</td>\n",
       "      <td>R</td>\n",
       "      <td>WSH</td>\n",
       "      <td>PHI</td>\n",
       "      <td>13</td>\n",
       "      <td>330000000.0</td>\n",
       "      <td>25384615.0</td>\n",
       "      <td>2018</td>\n",
       "      <td>137</td>\n",
       "      <td>100</td>\n",
       "      <td>34</td>\n",
       "      <td>0.249</td>\n",
       "      <td>0.889</td>\n",
       "      <td>1.79</td>\n",
       "      <td>2</td>\n",
       "      <td>3</td>\n",
       "    </tr>\n",
       "    <tr>\n",
       "      <th>1</th>\n",
       "      <td>295</td>\n",
       "      <td>Manny Machado</td>\n",
       "      <td>3B</td>\n",
       "      <td>26.6</td>\n",
       "      <td>R</td>\n",
       "      <td>R</td>\n",
       "      <td>LAD</td>\n",
       "      <td>SD</td>\n",
       "      <td>10</td>\n",
       "      <td>300000000.0</td>\n",
       "      <td>30000000.0</td>\n",
       "      <td>2018</td>\n",
       "      <td>188</td>\n",
       "      <td>107</td>\n",
       "      <td>37</td>\n",
       "      <td>0.297</td>\n",
       "      <td>0.905</td>\n",
       "      <td>3.64</td>\n",
       "      <td>2</td>\n",
       "      <td>5</td>\n",
       "    </tr>\n",
       "    <tr>\n",
       "      <th>2</th>\n",
       "      <td>1</td>\n",
       "      <td>A.J. Pollock</td>\n",
       "      <td>LF</td>\n",
       "      <td>31.1</td>\n",
       "      <td>R</td>\n",
       "      <td>R</td>\n",
       "      <td>ARI</td>\n",
       "      <td>LAD</td>\n",
       "      <td>5</td>\n",
       "      <td>60000000.0</td>\n",
       "      <td>12000000.0</td>\n",
       "      <td>2018</td>\n",
       "      <td>106</td>\n",
       "      <td>65</td>\n",
       "      <td>21</td>\n",
       "      <td>0.257</td>\n",
       "      <td>0.800</td>\n",
       "      <td>2.19</td>\n",
       "      <td>3</td>\n",
       "      <td>7</td>\n",
       "    </tr>\n",
       "    <tr>\n",
       "      <th>3</th>\n",
       "      <td>31</td>\n",
       "      <td>Andrew McCutchen</td>\n",
       "      <td>RF</td>\n",
       "      <td>32.2</td>\n",
       "      <td>R</td>\n",
       "      <td>R</td>\n",
       "      <td>NYY</td>\n",
       "      <td>PHI</td>\n",
       "      <td>3</td>\n",
       "      <td>50000000.0</td>\n",
       "      <td>16666667.0</td>\n",
       "      <td>2018</td>\n",
       "      <td>145</td>\n",
       "      <td>65</td>\n",
       "      <td>20</td>\n",
       "      <td>0.255</td>\n",
       "      <td>0.792</td>\n",
       "      <td>1.55</td>\n",
       "      <td>3</td>\n",
       "      <td>9</td>\n",
       "    </tr>\n",
       "    <tr>\n",
       "      <th>4</th>\n",
       "      <td>321</td>\n",
       "      <td>Michael Brantley</td>\n",
       "      <td>LF</td>\n",
       "      <td>31.6</td>\n",
       "      <td>L</td>\n",
       "      <td>L</td>\n",
       "      <td>CLE</td>\n",
       "      <td>HOU</td>\n",
       "      <td>2</td>\n",
       "      <td>32000000.0</td>\n",
       "      <td>16000000.0</td>\n",
       "      <td>2018</td>\n",
       "      <td>176</td>\n",
       "      <td>76</td>\n",
       "      <td>17</td>\n",
       "      <td>0.309</td>\n",
       "      <td>0.832</td>\n",
       "      <td>3.79</td>\n",
       "      <td>3</td>\n",
       "      <td>7</td>\n",
       "    </tr>\n",
       "  </tbody>\n",
       "</table>\n",
       "</div>"
      ],
      "text/plain": [
       "   PlayerID            PLAYER POS.   AGE BATS THROWS FROM   TO  YRS  \\\n",
       "0        72      Bryce Harper   1B  26.3    L      R  WSH  PHI   13   \n",
       "1       295     Manny Machado   3B  26.6    R      R  LAD   SD   10   \n",
       "2         1      A.J. Pollock   LF  31.1    R      R  ARI  LAD    5   \n",
       "3        31  Andrew McCutchen   RF  32.2    R      R  NYY  PHI    3   \n",
       "4       321  Michael Brantley   LF  31.6    L      L  CLE  HOU    2   \n",
       "\n",
       "       DOLLARS  AVG. SALARY  YEAR    H  RBI  HR    AVG    OPS   WAR  DummyPos  \\\n",
       "0  330000000.0   25384615.0  2018  137  100  34  0.249  0.889  1.79         2   \n",
       "1  300000000.0   30000000.0  2018  188  107  37  0.297  0.905  3.64         2   \n",
       "2   60000000.0   12000000.0  2018  106   65  21  0.257  0.800  2.19         3   \n",
       "3   50000000.0   16666667.0  2018  145   65  20  0.255  0.792  1.55         3   \n",
       "4   32000000.0   16000000.0  2018  176   76  17  0.309  0.832  3.79         3   \n",
       "\n",
       "   PosNumber  \n",
       "0          3  \n",
       "1          5  \n",
       "2          7  \n",
       "3          9  \n",
       "4          7  "
      ]
     },
     "execution_count": 15,
     "metadata": {},
     "output_type": "execute_result"
    }
   ],
   "source": [
    "freeagencyOPS.head()"
   ]
  },
  {
   "cell_type": "markdown",
   "id": "611ee52d-0b00-4a5d-b9c1-b6f6b706e2d2",
   "metadata": {},
   "source": [
    "# Data Wrangling"
   ]
  },
  {
   "cell_type": "code",
   "execution_count": 16,
   "id": "cd81d1d9-3a09-4c47-9da3-697bf4d4dd07",
   "metadata": {},
   "outputs": [],
   "source": [
    "x = freeagencyOPS[['HR', 'WAR']]"
   ]
  },
  {
   "cell_type": "code",
   "execution_count": 17,
   "id": "785f326e-acbf-4dd5-a646-5da4c2097ed2",
   "metadata": {},
   "outputs": [],
   "source": [
    "y = freeagencyOPS['AVG. SALARY']"
   ]
  },
  {
   "cell_type": "code",
   "execution_count": 19,
   "id": "0c996256-144c-4793-ac20-a09a0a4588c7",
   "metadata": {},
   "outputs": [],
   "source": [
    "x_train, x_test, y_train, y_test = train_test_split(x, y, test_size=0.2, random_state=42)\n"
   ]
  },
  {
   "cell_type": "code",
   "execution_count": 20,
   "id": "fde6940f-cab3-41d0-9155-6eb15481acbc",
   "metadata": {},
   "outputs": [
    {
     "data": {
      "text/html": [
       "<style>#sk-container-id-1 {color: black;}#sk-container-id-1 pre{padding: 0;}#sk-container-id-1 div.sk-toggleable {background-color: white;}#sk-container-id-1 label.sk-toggleable__label {cursor: pointer;display: block;width: 100%;margin-bottom: 0;padding: 0.3em;box-sizing: border-box;text-align: center;}#sk-container-id-1 label.sk-toggleable__label-arrow:before {content: \"▸\";float: left;margin-right: 0.25em;color: #696969;}#sk-container-id-1 label.sk-toggleable__label-arrow:hover:before {color: black;}#sk-container-id-1 div.sk-estimator:hover label.sk-toggleable__label-arrow:before {color: black;}#sk-container-id-1 div.sk-toggleable__content {max-height: 0;max-width: 0;overflow: hidden;text-align: left;background-color: #f0f8ff;}#sk-container-id-1 div.sk-toggleable__content pre {margin: 0.2em;color: black;border-radius: 0.25em;background-color: #f0f8ff;}#sk-container-id-1 input.sk-toggleable__control:checked~div.sk-toggleable__content {max-height: 200px;max-width: 100%;overflow: auto;}#sk-container-id-1 input.sk-toggleable__control:checked~label.sk-toggleable__label-arrow:before {content: \"▾\";}#sk-container-id-1 div.sk-estimator input.sk-toggleable__control:checked~label.sk-toggleable__label {background-color: #d4ebff;}#sk-container-id-1 div.sk-label input.sk-toggleable__control:checked~label.sk-toggleable__label {background-color: #d4ebff;}#sk-container-id-1 input.sk-hidden--visually {border: 0;clip: rect(1px 1px 1px 1px);clip: rect(1px, 1px, 1px, 1px);height: 1px;margin: -1px;overflow: hidden;padding: 0;position: absolute;width: 1px;}#sk-container-id-1 div.sk-estimator {font-family: monospace;background-color: #f0f8ff;border: 1px dotted black;border-radius: 0.25em;box-sizing: border-box;margin-bottom: 0.5em;}#sk-container-id-1 div.sk-estimator:hover {background-color: #d4ebff;}#sk-container-id-1 div.sk-parallel-item::after {content: \"\";width: 100%;border-bottom: 1px solid gray;flex-grow: 1;}#sk-container-id-1 div.sk-label:hover label.sk-toggleable__label {background-color: #d4ebff;}#sk-container-id-1 div.sk-serial::before {content: \"\";position: absolute;border-left: 1px solid gray;box-sizing: border-box;top: 0;bottom: 0;left: 50%;z-index: 0;}#sk-container-id-1 div.sk-serial {display: flex;flex-direction: column;align-items: center;background-color: white;padding-right: 0.2em;padding-left: 0.2em;position: relative;}#sk-container-id-1 div.sk-item {position: relative;z-index: 1;}#sk-container-id-1 div.sk-parallel {display: flex;align-items: stretch;justify-content: center;background-color: white;position: relative;}#sk-container-id-1 div.sk-item::before, #sk-container-id-1 div.sk-parallel-item::before {content: \"\";position: absolute;border-left: 1px solid gray;box-sizing: border-box;top: 0;bottom: 0;left: 50%;z-index: -1;}#sk-container-id-1 div.sk-parallel-item {display: flex;flex-direction: column;z-index: 1;position: relative;background-color: white;}#sk-container-id-1 div.sk-parallel-item:first-child::after {align-self: flex-end;width: 50%;}#sk-container-id-1 div.sk-parallel-item:last-child::after {align-self: flex-start;width: 50%;}#sk-container-id-1 div.sk-parallel-item:only-child::after {width: 0;}#sk-container-id-1 div.sk-dashed-wrapped {border: 1px dashed gray;margin: 0 0.4em 0.5em 0.4em;box-sizing: border-box;padding-bottom: 0.4em;background-color: white;}#sk-container-id-1 div.sk-label label {font-family: monospace;font-weight: bold;display: inline-block;line-height: 1.2em;}#sk-container-id-1 div.sk-label-container {text-align: center;}#sk-container-id-1 div.sk-container {/* jupyter's `normalize.less` sets `[hidden] { display: none; }` but bootstrap.min.css set `[hidden] { display: none !important; }` so we also need the `!important` here to be able to override the default hidden behavior on the sphinx rendered scikit-learn.org. See: https://github.com/scikit-learn/scikit-learn/issues/21755 */display: inline-block !important;position: relative;}#sk-container-id-1 div.sk-text-repr-fallback {display: none;}</style><div id=\"sk-container-id-1\" class=\"sk-top-container\"><div class=\"sk-text-repr-fallback\"><pre>LinearRegression()</pre><b>In a Jupyter environment, please rerun this cell to show the HTML representation or trust the notebook. <br />On GitHub, the HTML representation is unable to render, please try loading this page with nbviewer.org.</b></div><div class=\"sk-container\" hidden><div class=\"sk-item\"><div class=\"sk-estimator sk-toggleable\"><input class=\"sk-toggleable__control sk-hidden--visually\" id=\"sk-estimator-id-1\" type=\"checkbox\" checked><label for=\"sk-estimator-id-1\" class=\"sk-toggleable__label sk-toggleable__label-arrow\">LinearRegression</label><div class=\"sk-toggleable__content\"><pre>LinearRegression()</pre></div></div></div></div></div>"
      ],
      "text/plain": [
       "LinearRegression()"
      ]
     },
     "execution_count": 20,
     "metadata": {},
     "output_type": "execute_result"
    }
   ],
   "source": [
    "model = LinearRegression()\n",
    "model.fit(x_train, y_train)"
   ]
  },
  {
   "cell_type": "code",
   "execution_count": 21,
   "id": "2f7e5604-77c7-4ee4-8c66-246683c9b8d0",
   "metadata": {},
   "outputs": [],
   "source": [
    "y_pred = model.predict(x_test)\n",
    "mse = mean_squared_error(y_test, y_pred)\n",
    "r_squared = model.score(x_test, y_test)"
   ]
  },
  {
   "cell_type": "code",
   "execution_count": 23,
   "id": "56a2c00c-61e7-4df0-95e6-d674edccd2df",
   "metadata": {},
   "outputs": [
    {
     "name": "stdout",
     "output_type": "stream",
     "text": [
      "Intercept: 1554128.4602334844\n",
      "Coefficients: [ 207826.5430954  2788896.20668438]\n",
      "Mean Squared Error: 29264160536040.945\n",
      "R-squared: 0.5927697346878259\n"
     ]
    }
   ],
   "source": [
    "print(\"Intercept:\", model.intercept_)\n",
    "print(\"Coefficients:\", model.coef_)\n",
    "print(\"Mean Squared Error:\", mse)\n",
    "print(\"R-squared:\", r_squared)"
   ]
  },
  {
   "cell_type": "markdown",
   "id": "bfcb79bc-4566-4a85-a022-3ec063aa1fbf",
   "metadata": {},
   "source": [
    "# Predictions"
   ]
  },
  {
   "cell_type": "code",
   "execution_count": 24,
   "id": "bba2218d-e137-4d21-8ed1-5291f4ee4775",
   "metadata": {},
   "outputs": [
    {
     "data": {
      "text/plain": [
       "array([ 1353543.03614188,  5407364.99964988,  3604504.92912069,\n",
       "        1439891.26715426,  5772602.8513307 ,  6076700.08925414,\n",
       "       10599271.71827479,  3761916.2377061 ,  3850945.81353033,\n",
       "        4139757.89801442,  4417844.60325111,  3107063.38610946,\n",
       "       11253321.65443969,  6662368.29265785,  3429930.03771582,\n",
       "        4063332.13081769,  7167050.95467289, 15824430.08859023,\n",
       "        3039484.56878001,  6862150.80131772, 10065897.17876117,\n",
       "       10514801.91664252,  2702135.67916604,  3232025.95843607,\n",
       "         -66112.6844553 , 21604686.3554307 ,  5262557.49969197,\n",
       "       28365616.06880265, 17489723.77816531,  2172245.399896  ,\n",
       "        9415331.50283985, 20965118.6572734 ,  6015559.47549675,\n",
       "       14971673.15771383,  8819740.83562048,  9785129.12871262,\n",
       "        7222025.96337484,  4192854.47733625,  2179486.51889981,\n",
       "       10921335.45444942, 16079187.60595204,  4569893.22221283,\n",
       "       11858834.78547471,  4185613.35833245,  1858225.69815692,\n",
       "        3400435.2447855 , 10064018.74938106,  7052813.76159367,\n",
       "       10180937.28727213,  6200859.74614901,  2532120.56195313,\n",
       "       15198269.11449217,  4370110.71355297,  8512159.33745346,\n",
       "       17656254.63513464,  9524206.00629538])"
      ]
     },
     "execution_count": 24,
     "metadata": {},
     "output_type": "execute_result"
    }
   ],
   "source": [
    "predictions = model.predict(x_test)\n",
    "predictions"
   ]
  },
  {
   "cell_type": "code",
   "execution_count": 25,
   "id": "79ed191c-45fa-41d8-9ecb-4253f87b556b",
   "metadata": {},
   "outputs": [
    {
     "data": {
      "text/plain": [
       "<matplotlib.collections.PathCollection at 0x21c9851a5d0>"
      ]
     },
     "execution_count": 25,
     "metadata": {},
     "output_type": "execute_result"
    },
    {
     "data": {
      "image/png": "[encoded data removed]",
      "text/plain": [
       "<Figure size 640x480 with 1 Axes>"
      ]
     },
     "metadata": {},
     "output_type": "display_data"
    }
   ],
   "source": [
    "plt.scatter(y_test, predictions)"
   ]
  },
  {
   "cell_type": "code",
   "execution_count": 27,
   "id": "d95d94ad-2405-48e8-aba2-8f3bc995e20d",
   "metadata": {},
   "outputs": [
    {
     "name": "stdout",
     "output_type": "stream",
     "text": [
      "Score: 0.5927697346878259\n"
     ]
    }
   ],
   "source": [
    "print(\"Score:\", model.score(x_test, y_test))"
   ]
  },
  {
   "cell_type": "code",
   "execution_count": null,
   "id": "70057126-12fa-4079-9f9f-8690783f8549",
   "metadata": {},
   "outputs": [],
   "source": [
    "### Model is 59% accurate"
   ]
  }
 ],
 "metadata": {
  "kernelspec": {
   "display_name": "Python 3 (ipykernel)",
   "language": "python",
   "name": "python3"
  },
  "language_info": {
   "codemirror_mode": {
    "name": "ipython",
    "version": 3
   },
   "file_extension": ".py",
   "mimetype": "text/x-python",
   "name": "python",
   "nbconvert_exporter": "python",
   "pygments_lexer": "ipython3",
   "version": "3.12.1"
  }
 },
 "nbformat": 4,
 "nbformat_minor": 5
}
