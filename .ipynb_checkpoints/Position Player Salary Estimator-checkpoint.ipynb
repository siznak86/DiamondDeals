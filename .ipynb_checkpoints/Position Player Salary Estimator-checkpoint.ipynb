{
 "cells": [
  {
   "cell_type": "markdown",
   "id": "cfe62fe1-c471-4899-8ba9-5f73e77bb486",
   "metadata": {},
   "source": [
    "# Imports"
   ]
  },
  {
   "cell_type": "code",
   "execution_count": 10,
   "id": "bfdf176b-a71f-4564-ac1c-7f91f89c31c3",
   "metadata": {},
   "outputs": [],
   "source": [
    "import math"
   ]
  },
  {
   "cell_type": "markdown",
   "id": "bf04f879-b515-4e30-a4e1-699182f1950a",
   "metadata": {},
   "source": [
    "# Predicition Equation"
   ]
  },
  {
   "cell_type": "code",
   "execution_count": 17,
   "id": "5578034e-f34f-4566-aa0c-c9c4603806ba",
   "metadata": {},
   "outputs": [],
   "source": [
    "def predict_salary(age, h, avg, ops, war, war_h):\n",
    "    intercept = 14.125269\n",
    "    coefficient_age = -0.022076\n",
    "    coefficient_h = 0.008152\n",
    "    coefficient_avg = -6.927712\n",
    "    coefficient_ops = 3.627472\n",
    "    coefficient_war = 0.215630\n",
    "    coefficient_war_h = -0.0018766\n",
    "\n",
    "    predicted_salary = math.exp(\n",
    "        intercept +\n",
    "        coefficient_age * age +\n",
    "        coefficient_h * h +\n",
    "        coefficient_avg * avg +\n",
    "        coefficient_ops * ops +\n",
    "        coefficient_war * war +\n",
    "        coefficient_war_h * war_h\n",
    "    )\n",
    "\n",
    "    return predicted_salary\n"
   ]
  },
  {
   "cell_type": "markdown",
   "id": "42b7542c-54a1-4bc3-9ca9-ecbe5627ee72",
   "metadata": {},
   "source": [
    "# Input values from the user"
   ]
  },
  {
   "cell_type": "code",
   "execution_count": 28,
   "id": "602968aa-0ca5-4968-a78f-27baa11bafe9",
   "metadata": {},
   "outputs": [
    {
     "name": "stdin",
     "output_type": "stream",
     "text": [
      "Enter Age:  0\n",
      "Enter H:  0\n",
      "Enter AVG:  0\n",
      "Enter OPS:  0\n",
      "Enter WAR:  0\n"
     ]
    }
   ],
   "source": [
    "age = float(input(\"Enter Age: \"))\n",
    "h = float(input(\"Enter H: \"))\n",
    "avg = float(input(\"Enter AVG: \"))\n",
    "ops = float(input(\"Enter OPS: \"))\n",
    "war = float(input(\"Enter WAR: \"))\n",
    "war_h = war * h"
   ]
  },
  {
   "cell_type": "markdown",
   "id": "3e18f45e-a0a1-4253-a400-22ad739c3d34",
   "metadata": {},
   "source": [
    "# Result"
   ]
  },
  {
   "cell_type": "code",
   "execution_count": 29,
   "id": "4f5f8fcf-f9a4-477a-ae82-f754177d00cd",
   "metadata": {},
   "outputs": [
    {
     "name": "stdout",
     "output_type": "stream",
     "text": [
      "Predicted Salary: $1363095.81\n"
     ]
    }
   ],
   "source": [
    "predicted_salary = predict_salary(age, h, avg, ops, war, war_h)\n",
    "print(f'Predicted Salary: ${predicted_salary:.2f}')"
   ]
  },
  {
   "cell_type": "markdown",
   "id": "c53cc6e2-0aba-4bdb-bde4-9d7b6490f2dd",
   "metadata": {},
   "source": [
    "# Checking Accuracy"
   ]
  },
  {
   "cell_type": "code",
   "execution_count": 14,
   "id": "b9a78b0c-a19e-4981-a9ab-94b3ed401618",
   "metadata": {},
   "outputs": [
    {
     "name": "stdin",
     "output_type": "stream",
     "text": [
      "Enter Real Salary:  1500000\n"
     ]
    }
   ],
   "source": [
    "real_salary = float(input(\"Enter Real Salary: \"))"
   ]
  },
  {
   "cell_type": "markdown",
   "id": "8199b761-0a95-47f5-a9b9-cae2ce7f8145",
   "metadata": {},
   "source": [
    "## Calculate percent difference"
   ]
  },
  {
   "cell_type": "code",
   "execution_count": 15,
   "id": "68928870-7a6f-4f93-9ce7-3b07d35651aa",
   "metadata": {},
   "outputs": [],
   "source": [
    "percent_difference = ((real_salary - predicted_salary) / real_salary) * 100"
   ]
  },
  {
   "cell_type": "code",
   "execution_count": 16,
   "id": "2599663c-3afe-4ff5-b6be-f52daaf2dce3",
   "metadata": {},
   "outputs": [
    {
     "name": "stdout",
     "output_type": "stream",
     "text": [
      "Predicted Salary: $754739.18\n",
      "Real Salary: $1500000.00\n",
      "Percent Difference: 49.68%\n"
     ]
    }
   ],
   "source": [
    "print(f'Predicted Salary: ${predicted_salary:.2f}')\n",
    "print(f'Real Salary: ${real_salary:.2f}')\n",
    "print(f'Percent Difference: {percent_difference:.2f}%')"
   ]
  },
  {
   "cell_type": "code",
   "execution_count": null,
   "id": "14b461f6-68c1-43cd-8332-0cfa240d9c34",
   "metadata": {},
   "outputs": [],
   "source": []
  }
 ],
 "metadata": {
  "kernelspec": {
   "display_name": "Python 3 (ipykernel)",
   "language": "python",
   "name": "python3"
  },
  "language_info": {
   "codemirror_mode": {
    "name": "ipython",
    "version": 3
   },
   "file_extension": ".py",
   "mimetype": "text/x-python",
   "name": "python",
   "nbconvert_exporter": "python",
   "pygments_lexer": "ipython3",
   "version": "3.12.1"
  }
 },
 "nbformat": 4,
 "nbformat_minor": 5
}
