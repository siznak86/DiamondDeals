{
 "cells": [
  {
   "cell_type": "markdown",
   "id": "3e33cf1e-6a1b-4002-b7bc-0643775956c2",
   "metadata": {},
   "source": [
    "# Prediction Equation"
   ]
  },
  {
   "cell_type": "code",
   "execution_count": 1,
   "id": "4603da46-c078-4f84-9ce5-2f7f3d7ef312",
   "metadata": {},
   "outputs": [],
   "source": [
    "def predict_salary(age, era, whip, w, sv, war):\n",
    "    intercept = 15901686\n",
    "    coefficient_age = -284546\n",
    "    coefficient_era = 724465\n",
    "    coefficient_whip = -5699905\n",
    "    coefficient_w = 533834\n",
    "    coefficient_sv = 93039\n",
    "    coefficient_war = 2310227\n",
    "\n",
    "    predicted_salary = (\n",
    "        intercept +\n",
    "        coefficient_age * age * .5193 +\n",
    "        coefficient_era * era +\n",
    "        coefficient_whip * whip * .4998 +\n",
    "        coefficient_w * w * .3 +\n",
    "        coefficient_sv * sv +\n",
    "        coefficient_war * war\n",
    "    )\n",
    "\n",
    "    return predicted_salary\n"
   ]
  },
  {
   "cell_type": "markdown",
   "id": "2ffcd8bc-127e-4dec-a9cf-8de89ea73fcc",
   "metadata": {},
   "source": [
    "# Input values from the user"
   ]
  },
  {
   "cell_type": "code",
   "execution_count": 8,
   "id": "25ef2a74-ed86-4546-a0e8-365a293cf17b",
   "metadata": {},
   "outputs": [
    {
     "name": "stdin",
     "output_type": "stream",
     "text": [
      "Enter Age:  30\n",
      "Enter ERA:  4.46\n",
      "Enter WHIP:  1.15\n",
      "Enter W:  12\n",
      "Enter SV:  0\n",
      "Enter WAR:  3.9\n"
     ]
    }
   ],
   "source": [
    "age = float(input(\"Enter Age: \"))\n",
    "era = float(input(\"Enter ERA: \"))\n",
    "whip = float(input(\"Enter WHIP: \"))\n",
    "w = float(input(\"Enter W: \"))\n",
    "sv = float(input(\"Enter SV: \"))\n",
    "war = float(input(\"Enter WAR: \"))"
   ]
  },
  {
   "cell_type": "markdown",
   "id": "eb4ff640-9284-4300-8b1a-393a36ab1836",
   "metadata": {},
   "source": [
    "# Result"
   ]
  },
  {
   "cell_type": "code",
   "execution_count": 9,
   "id": "ab6a0488-9ad4-4395-91e9-7684025530be",
   "metadata": {},
   "outputs": [
    {
     "name": "stdout",
     "output_type": "stream",
     "text": [
      "Predicted Salary: $22355411.07\n"
     ]
    }
   ],
   "source": [
    "predicted_salary = predict_salary(age, era, whip, w, sv, war)\n",
    "print(f'Predicted Salary: ${predicted_salary:.2f}')"
   ]
  },
  {
   "cell_type": "markdown",
   "id": "0ab56c2b-3a0a-43eb-933c-f0c4be75b6e7",
   "metadata": {},
   "source": [
    "# Checking Accuracy"
   ]
  },
  {
   "cell_type": "code",
   "execution_count": 10,
   "id": "dde5de3c-8fce-46f8-8d9a-ed5a5bca96b7",
   "metadata": {},
   "outputs": [
    {
     "name": "stdin",
     "output_type": "stream",
     "text": [
      "Enter Real Salary:  24600000\n"
     ]
    }
   ],
   "source": [
    "real_salary = float(input(\"Enter Real Salary: \"))"
   ]
  },
  {
   "cell_type": "markdown",
   "id": "1240cee2-441b-4ab3-9138-ec841300e5f6",
   "metadata": {},
   "source": [
    "## Calculate percent difference"
   ]
  },
  {
   "cell_type": "code",
   "execution_count": 11,
   "id": "98f35bae-b92a-4887-9f10-fef26fbaf75d",
   "metadata": {},
   "outputs": [],
   "source": [
    "percent_difference = ((real_salary - predicted_salary) / real_salary) * 100"
   ]
  },
  {
   "cell_type": "code",
   "execution_count": 12,
   "id": "db778e77-2281-43a8-8fe3-13eb14cb8b5e",
   "metadata": {},
   "outputs": [
    {
     "name": "stdout",
     "output_type": "stream",
     "text": [
      "Predicted Salary: $22355411.07\n",
      "Real Salary: $24600000.00\n",
      "Percent Difference: 9.12%\n"
     ]
    }
   ],
   "source": [
    "print(f'Predicted Salary: ${predicted_salary:.2f}')\n",
    "print(f'Real Salary: ${real_salary:.2f}')\n",
    "print(f'Percent Difference: {percent_difference:.2f}%')"
   ]
  },
  {
   "cell_type": "code",
   "execution_count": null,
   "id": "cb822a89-217e-4449-a9c4-2e260ca848f0",
   "metadata": {},
   "outputs": [],
   "source": []
  }
 ],
 "metadata": {
  "kernelspec": {
   "display_name": "Python 3 (ipykernel)",
   "language": "python",
   "name": "python3"
  },
  "language_info": {
   "codemirror_mode": {
    "name": "ipython",
    "version": 3
   },
   "file_extension": ".py",
   "mimetype": "text/x-python",
   "name": "python",
   "nbconvert_exporter": "python",
   "pygments_lexer": "ipython3",
   "version": "3.12.1"
  }
 },
 "nbformat": 4,
 "nbformat_minor": 5
}
