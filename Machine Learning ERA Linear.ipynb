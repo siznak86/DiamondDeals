{
 "cells": [
  {
   "cell_type": "markdown",
   "id": "7e5c882c-2d15-4467-9e15-5b6b0df435ac",
   "metadata": {},
   "source": [
    "# Import Packages"
   ]
  },
  {
   "cell_type": "code",
   "execution_count": 1,
   "id": "8628d7bf-afa2-4c1c-a9db-067f206a0a9f",
   "metadata": {},
   "outputs": [],
   "source": [
    "import pandas as pd\n",
    "from sklearn.linear_model import LinearRegression\n",
    "from sklearn.model_selection import train_test_split\n",
    "import matplotlib.pyplot as plt\n",
    "%matplotlib inline\n",
    "from sklearn import metrics\n",
    "from sklearn.metrics import mean_squared_error\n",
    "import numpy as np"
   ]
  },
  {
   "cell_type": "markdown",
   "id": "8fb74c8c-c3ee-467f-854b-37188f9d6669",
   "metadata": {},
   "source": [
    "# Import Data"
   ]
  },
  {
   "cell_type": "code",
   "execution_count": 2,
   "id": "6dcf14e2-7396-4fd5-a534-6d886ff587ce",
   "metadata": {},
   "outputs": [],
   "source": [
    "freeagencyERA = pd.read_csv(\"C:/Users/Hayden's PC/Documents/Data Science/DiamondDeals/FreeAgencyERA.csv\")"
   ]
  },
  {
   "cell_type": "code",
   "execution_count": 3,
   "id": "251df2ca-44df-4d55-a59b-798159350abc",
   "metadata": {},
   "outputs": [
    {
     "data": {
      "text/html": [
       "<div>\n",
       "<style scoped>\n",
       "    .dataframe tbody tr th:only-of-type {\n",
       "        vertical-align: middle;\n",
       "    }\n",
       "\n",
       "    .dataframe tbody tr th {\n",
       "        vertical-align: top;\n",
       "    }\n",
       "\n",
       "    .dataframe thead th {\n",
       "        text-align: right;\n",
       "    }\n",
       "</style>\n",
       "<table border=\"1\" class=\"dataframe\">\n",
       "  <thead>\n",
       "    <tr style=\"text-align: right;\">\n",
       "      <th></th>\n",
       "      <th>PlayerID</th>\n",
       "      <th>PLAYER</th>\n",
       "      <th>POS.</th>\n",
       "      <th>AGE</th>\n",
       "      <th>YRS</th>\n",
       "      <th>DOLLARS</th>\n",
       "      <th>AVG. SALARY</th>\n",
       "      <th>YEAR</th>\n",
       "      <th>IP</th>\n",
       "      <th>ERA</th>\n",
       "      <th>WHIP</th>\n",
       "      <th>W</th>\n",
       "      <th>SV</th>\n",
       "      <th>WAR</th>\n",
       "      <th>DummyPos</th>\n",
       "      <th>PosNumber</th>\n",
       "    </tr>\n",
       "  </thead>\n",
       "  <tbody>\n",
       "    <tr>\n",
       "      <th>0</th>\n",
       "      <td>355</td>\n",
       "      <td>Patrick Corbin</td>\n",
       "      <td>SP</td>\n",
       "      <td>29.3</td>\n",
       "      <td>6</td>\n",
       "      <td>140000000.0</td>\n",
       "      <td>23333333.0</td>\n",
       "      <td>2018</td>\n",
       "      <td>200.0</td>\n",
       "      <td>3.15</td>\n",
       "      <td>1.05</td>\n",
       "      <td>11</td>\n",
       "      <td>0</td>\n",
       "      <td>4.37</td>\n",
       "      <td>1</td>\n",
       "      <td>1</td>\n",
       "    </tr>\n",
       "    <tr>\n",
       "      <th>1</th>\n",
       "      <td>340</td>\n",
       "      <td>Nathan Eovaldi</td>\n",
       "      <td>SP</td>\n",
       "      <td>28.8</td>\n",
       "      <td>4</td>\n",
       "      <td>68000000.0</td>\n",
       "      <td>17000000.0</td>\n",
       "      <td>2018</td>\n",
       "      <td>111.0</td>\n",
       "      <td>3.81</td>\n",
       "      <td>1.13</td>\n",
       "      <td>7</td>\n",
       "      <td>0</td>\n",
       "      <td>0.52</td>\n",
       "      <td>1</td>\n",
       "      <td>1</td>\n",
       "    </tr>\n",
       "    <tr>\n",
       "      <th>2</th>\n",
       "      <td>109</td>\n",
       "      <td>Craig Kimbrel</td>\n",
       "      <td>RP</td>\n",
       "      <td>31.0</td>\n",
       "      <td>3</td>\n",
       "      <td>43000000.0</td>\n",
       "      <td>14333333.0</td>\n",
       "      <td>2018</td>\n",
       "      <td>62.3</td>\n",
       "      <td>2.74</td>\n",
       "      <td>1.00</td>\n",
       "      <td>5</td>\n",
       "      <td>42</td>\n",
       "      <td>2.09</td>\n",
       "      <td>1</td>\n",
       "      <td>1</td>\n",
       "    </tr>\n",
       "    <tr>\n",
       "      <th>3</th>\n",
       "      <td>454</td>\n",
       "      <td>Zack Britton</td>\n",
       "      <td>RP</td>\n",
       "      <td>31.0</td>\n",
       "      <td>3</td>\n",
       "      <td>39000000.0</td>\n",
       "      <td>13000000.0</td>\n",
       "      <td>2018</td>\n",
       "      <td>40.7</td>\n",
       "      <td>3.10</td>\n",
       "      <td>1.23</td>\n",
       "      <td>2</td>\n",
       "      <td>7</td>\n",
       "      <td>0.33</td>\n",
       "      <td>1</td>\n",
       "      <td>1</td>\n",
       "    </tr>\n",
       "    <tr>\n",
       "      <th>4</th>\n",
       "      <td>182</td>\n",
       "      <td>J.A. Happ</td>\n",
       "      <td>SP</td>\n",
       "      <td>36.1</td>\n",
       "      <td>2</td>\n",
       "      <td>34000000.0</td>\n",
       "      <td>17000000.0</td>\n",
       "      <td>2018</td>\n",
       "      <td>177.7</td>\n",
       "      <td>3.65</td>\n",
       "      <td>1.13</td>\n",
       "      <td>17</td>\n",
       "      <td>0</td>\n",
       "      <td>1.03</td>\n",
       "      <td>1</td>\n",
       "      <td>1</td>\n",
       "    </tr>\n",
       "  </tbody>\n",
       "</table>\n",
       "</div>"
      ],
      "text/plain": [
       "   PlayerID          PLAYER POS.   AGE  YRS      DOLLARS  AVG. SALARY  YEAR  \\\n",
       "0       355  Patrick Corbin   SP  29.3    6  140000000.0   23333333.0  2018   \n",
       "1       340  Nathan Eovaldi   SP  28.8    4   68000000.0   17000000.0  2018   \n",
       "2       109   Craig Kimbrel   RP  31.0    3   43000000.0   14333333.0  2018   \n",
       "3       454    Zack Britton   RP  31.0    3   39000000.0   13000000.0  2018   \n",
       "4       182       J.A. Happ   SP  36.1    2   34000000.0   17000000.0  2018   \n",
       "\n",
       "      IP   ERA  WHIP   W  SV   WAR  DummyPos  PosNumber  \n",
       "0  200.0  3.15  1.05  11   0  4.37         1          1  \n",
       "1  111.0  3.81  1.13   7   0  0.52         1          1  \n",
       "2   62.3  2.74  1.00   5  42  2.09         1          1  \n",
       "3   40.7  3.10  1.23   2   7  0.33         1          1  \n",
       "4  177.7  3.65  1.13  17   0  1.03         1          1  "
      ]
     },
     "execution_count": 3,
     "metadata": {},
     "output_type": "execute_result"
    }
   ],
   "source": [
    "freeagencyERA.head()"
   ]
  },
  {
   "cell_type": "markdown",
   "id": "53d573ca-5b87-4d80-80c6-5ac125bd1e5b",
   "metadata": {},
   "source": [
    "# Data Wrangling"
   ]
  },
  {
   "cell_type": "markdown",
   "id": "ddf42fa0-34c7-4b5a-a3e9-99e333a66141",
   "metadata": {},
   "source": [
    "ERA, WAR, WHIP, W, SV"
   ]
  },
  {
   "cell_type": "code",
   "execution_count": 4,
   "id": "1c390f00-547d-4bb7-a8b3-6369123b74c4",
   "metadata": {},
   "outputs": [],
   "source": [
    "x = freeagencyERA[['ERA', 'WAR', 'WHIP', 'W', 'SV']]"
   ]
  },
  {
   "cell_type": "code",
   "execution_count": 5,
   "id": "a4f9f7f5-fbb2-4857-a477-622168f21aa2",
   "metadata": {},
   "outputs": [],
   "source": [
    "y = freeagencyERA['AVG. SALARY']"
   ]
  },
  {
   "cell_type": "code",
   "execution_count": 6,
   "id": "40562ff1-5b83-4b42-822c-03404902a32e",
   "metadata": {},
   "outputs": [],
   "source": [
    "x_train, x_test, y_train, y_test = train_test_split(x, y, test_size=0.2, random_state=42)"
   ]
  },
  {
   "cell_type": "code",
   "execution_count": 7,
   "id": "c129d647-fa07-4e29-85df-77bd83c02200",
   "metadata": {},
   "outputs": [
    {
     "data": {
      "text/html": [
       "<style>#sk-container-id-1 {color: black;}#sk-container-id-1 pre{padding: 0;}#sk-container-id-1 div.sk-toggleable {background-color: white;}#sk-container-id-1 label.sk-toggleable__label {cursor: pointer;display: block;width: 100%;margin-bottom: 0;padding: 0.3em;box-sizing: border-box;text-align: center;}#sk-container-id-1 label.sk-toggleable__label-arrow:before {content: \"▸\";float: left;margin-right: 0.25em;color: #696969;}#sk-container-id-1 label.sk-toggleable__label-arrow:hover:before {color: black;}#sk-container-id-1 div.sk-estimator:hover label.sk-toggleable__label-arrow:before {color: black;}#sk-container-id-1 div.sk-toggleable__content {max-height: 0;max-width: 0;overflow: hidden;text-align: left;background-color: #f0f8ff;}#sk-container-id-1 div.sk-toggleable__content pre {margin: 0.2em;color: black;border-radius: 0.25em;background-color: #f0f8ff;}#sk-container-id-1 input.sk-toggleable__control:checked~div.sk-toggleable__content {max-height: 200px;max-width: 100%;overflow: auto;}#sk-container-id-1 input.sk-toggleable__control:checked~label.sk-toggleable__label-arrow:before {content: \"▾\";}#sk-container-id-1 div.sk-estimator input.sk-toggleable__control:checked~label.sk-toggleable__label {background-color: #d4ebff;}#sk-container-id-1 div.sk-label input.sk-toggleable__control:checked~label.sk-toggleable__label {background-color: #d4ebff;}#sk-container-id-1 input.sk-hidden--visually {border: 0;clip: rect(1px 1px 1px 1px);clip: rect(1px, 1px, 1px, 1px);height: 1px;margin: -1px;overflow: hidden;padding: 0;position: absolute;width: 1px;}#sk-container-id-1 div.sk-estimator {font-family: monospace;background-color: #f0f8ff;border: 1px dotted black;border-radius: 0.25em;box-sizing: border-box;margin-bottom: 0.5em;}#sk-container-id-1 div.sk-estimator:hover {background-color: #d4ebff;}#sk-container-id-1 div.sk-parallel-item::after {content: \"\";width: 100%;border-bottom: 1px solid gray;flex-grow: 1;}#sk-container-id-1 div.sk-label:hover label.sk-toggleable__label {background-color: #d4ebff;}#sk-container-id-1 div.sk-serial::before {content: \"\";position: absolute;border-left: 1px solid gray;box-sizing: border-box;top: 0;bottom: 0;left: 50%;z-index: 0;}#sk-container-id-1 div.sk-serial {display: flex;flex-direction: column;align-items: center;background-color: white;padding-right: 0.2em;padding-left: 0.2em;position: relative;}#sk-container-id-1 div.sk-item {position: relative;z-index: 1;}#sk-container-id-1 div.sk-parallel {display: flex;align-items: stretch;justify-content: center;background-color: white;position: relative;}#sk-container-id-1 div.sk-item::before, #sk-container-id-1 div.sk-parallel-item::before {content: \"\";position: absolute;border-left: 1px solid gray;box-sizing: border-box;top: 0;bottom: 0;left: 50%;z-index: -1;}#sk-container-id-1 div.sk-parallel-item {display: flex;flex-direction: column;z-index: 1;position: relative;background-color: white;}#sk-container-id-1 div.sk-parallel-item:first-child::after {align-self: flex-end;width: 50%;}#sk-container-id-1 div.sk-parallel-item:last-child::after {align-self: flex-start;width: 50%;}#sk-container-id-1 div.sk-parallel-item:only-child::after {width: 0;}#sk-container-id-1 div.sk-dashed-wrapped {border: 1px dashed gray;margin: 0 0.4em 0.5em 0.4em;box-sizing: border-box;padding-bottom: 0.4em;background-color: white;}#sk-container-id-1 div.sk-label label {font-family: monospace;font-weight: bold;display: inline-block;line-height: 1.2em;}#sk-container-id-1 div.sk-label-container {text-align: center;}#sk-container-id-1 div.sk-container {/* jupyter's `normalize.less` sets `[hidden] { display: none; }` but bootstrap.min.css set `[hidden] { display: none !important; }` so we also need the `!important` here to be able to override the default hidden behavior on the sphinx rendered scikit-learn.org. See: https://github.com/scikit-learn/scikit-learn/issues/21755 */display: inline-block !important;position: relative;}#sk-container-id-1 div.sk-text-repr-fallback {display: none;}</style><div id=\"sk-container-id-1\" class=\"sk-top-container\"><div class=\"sk-text-repr-fallback\"><pre>LinearRegression()</pre><b>In a Jupyter environment, please rerun this cell to show the HTML representation or trust the notebook. <br />On GitHub, the HTML representation is unable to render, please try loading this page with nbviewer.org.</b></div><div class=\"sk-container\" hidden><div class=\"sk-item\"><div class=\"sk-estimator sk-toggleable\"><input class=\"sk-toggleable__control sk-hidden--visually\" id=\"sk-estimator-id-1\" type=\"checkbox\" checked><label for=\"sk-estimator-id-1\" class=\"sk-toggleable__label sk-toggleable__label-arrow\">LinearRegression</label><div class=\"sk-toggleable__content\"><pre>LinearRegression()</pre></div></div></div></div></div>"
      ],
      "text/plain": [
       "LinearRegression()"
      ]
     },
     "execution_count": 7,
     "metadata": {},
     "output_type": "execute_result"
    }
   ],
   "source": [
    "model = LinearRegression()\n",
    "model.fit(x_train, y_train)"
   ]
  },
  {
   "cell_type": "code",
   "execution_count": 8,
   "id": "bcffbb07-e247-43c9-a898-ae1481a9f1d6",
   "metadata": {},
   "outputs": [],
   "source": [
    "y_pred = model.predict(x_test)\n",
    "mse = mean_squared_error(y_test, y_pred)\n",
    "r_squared = model.score(x_test, y_test)"
   ]
  },
  {
   "cell_type": "code",
   "execution_count": null,
   "id": "ea5d52f5-a8cc-429d-a427-9e0004fb4e06",
   "metadata": {},
   "outputs": [],
   "source": []
  },
  {
   "cell_type": "code",
   "execution_count": 9,
   "id": "59b9c40c-3ef1-4115-ba1a-82c308bde85c",
   "metadata": {},
   "outputs": [
    {
     "name": "stdout",
     "output_type": "stream",
     "text": [
      "Intercept: 5886948.179165252\n",
      "Coefficients: [  694813.61998213  2490526.79749528 -5034079.02326243   517143.09958033\n",
      "    85278.83421382]\n",
      "Mean Squared Error: 20466076491626.227\n",
      "R-squared: 0.46139616065852884\n"
     ]
    }
   ],
   "source": [
    "print(\"Intercept:\", model.intercept_)\n",
    "print(\"Coefficients:\", model.coef_)\n",
    "print(\"Mean Squared Error:\", mse)\n",
    "print(\"R-squared:\", r_squared)"
   ]
  },
  {
   "cell_type": "markdown",
   "id": "0eeeb7f5-2fc6-4bef-8d64-75245f8e444c",
   "metadata": {},
   "source": [
    "# Predictions"
   ]
  },
  {
   "cell_type": "code",
   "execution_count": 10,
   "id": "76216ac4-21ee-464d-8755-7cf8a6fb94b6",
   "metadata": {},
   "outputs": [
    {
     "data": {
      "text/plain": [
       "array([ 7703116.86043403,  4737940.7002838 ,  5237015.96087122,\n",
       "        4713791.22200888, 14710311.80584347,  3905100.26994044,\n",
       "        3987244.17963368, 11866415.19877542, 14130165.91026624,\n",
       "       10234704.9893092 , 14905794.16850422,  3588878.10287471,\n",
       "        3993478.40682588,  1002300.76375254, 13025136.87614673,\n",
       "        7109802.62615756,  2416540.82516892,  2094359.74822595,\n",
       "        2496045.14494974,  4340099.54436128,  3545086.08072431,\n",
       "        5851230.61189082,  7934687.44730456, 11838860.77196777,\n",
       "       10282071.1551155 ,  3587010.38702152, 14870904.39669895,\n",
       "        5729771.43768997,  4378862.63889894,  -791467.43702974,\n",
       "        9975056.1055397 ,  2682347.75284061,  9463879.5718469 ,\n",
       "       15965422.91567754,  3191638.75449384,  2847789.47870089,\n",
       "        1481927.42089734,  -546020.53638948,  8795706.75178319,\n",
       "        4913480.59952717,  4444518.74446595,  3230990.13257939,\n",
       "       19710718.25925219,   278457.49320535,   325261.92692357,\n",
       "       12081900.69112746,  5274801.52930599,  3353494.76022482,\n",
       "        3000559.25943513,  3049984.81301415,  3022254.36978611,\n",
       "        5533513.27161935,  8549989.19241497,  7797049.83457262,\n",
       "        6475617.94705721,  9266023.2091782 , 18472026.01588878,\n",
       "       26288528.8756574 ,  6919112.58064276,  4204931.68604929,\n",
       "        7125371.10927733,  6799775.67039379,  3767441.32357341,\n",
       "        4302065.08432793,  4366166.54682857,  6750091.29382044,\n",
       "       14200651.36349698])"
      ]
     },
     "execution_count": 10,
     "metadata": {},
     "output_type": "execute_result"
    }
   ],
   "source": [
    "predictions = model.predict(x_test)\n",
    "predictions"
   ]
  },
  {
   "cell_type": "code",
   "execution_count": 11,
   "id": "4200c982-8be4-4e87-b9ea-d729858fc601",
   "metadata": {},
   "outputs": [
    {
     "data": {
      "text/plain": [
       "<matplotlib.collections.PathCollection at 0x25386f4f230>"
      ]
     },
     "execution_count": 11,
     "metadata": {},
     "output_type": "execute_result"
    },
    {
     "data": {
      "image/png": "[encoded data removed]",
      "text/plain": [
       "<Figure size 640x480 with 1 Axes>"
      ]
     },
     "metadata": {},
     "output_type": "display_data"
    }
   ],
   "source": [
    "plt.scatter(y_test, predictions)"
   ]
  },
  {
   "cell_type": "code",
   "execution_count": 12,
   "id": "3fdbafe1-11db-4d1e-a1f3-26de97496bd8",
   "metadata": {},
   "outputs": [
    {
     "name": "stdout",
     "output_type": "stream",
     "text": [
      "Score: 0.46139616065852884\n"
     ]
    }
   ],
   "source": [
    "print(\"Score:\", model.score(x_test, y_test))"
   ]
  },
  {
   "cell_type": "markdown",
   "id": "9cc23b32-44ac-42f4-9a69-10afe0d7ea47",
   "metadata": {},
   "source": [
    "#### Model is 46% accurate"
   ]
  },
  {
   "cell_type": "code",
   "execution_count": null,
   "id": "cf901872-84b1-4864-b2d8-112f573a9909",
   "metadata": {},
   "outputs": [],
   "source": []
  }
 ],
 "metadata": {
  "kernelspec": {
   "display_name": "Python 3 (ipykernel)",
   "language": "python",
   "name": "python3"
  },
  "language_info": {
   "codemirror_mode": {
    "name": "ipython",
    "version": 3
   },
   "file_extension": ".py",
   "mimetype": "text/x-python",
   "name": "python",
   "nbconvert_exporter": "python",
   "pygments_lexer": "ipython3",
   "version": "3.12.1"
  }
 },
 "nbformat": 4,
 "nbformat_minor": 5
}
